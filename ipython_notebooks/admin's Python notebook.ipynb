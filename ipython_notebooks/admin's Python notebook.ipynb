{
  "metadata": {
    "kernelspec": {
      "name": "py-dku-venv-visualml",
      "display_name": "Python (env visualML)",
      "language": "python"
    },
    "hide_input": false,
    "language_info": {
      "name": "python",
      "version": "3.9.19",
      "mimetype": "text/x-python",
      "codemirror_mode": {
        "name": "ipython",
        "version": 3
      },
      "pygments_lexer": "ipython3",
      "nbconvert_exporter": "python",
      "file_extension": ".py"
    },
    "customFields": {},
    "createdOn": 1710355400137,
    "creator": "admin",
    "tags": [],
    "modifiedBy": "admin"
  },
  "nbformat": 4,
  "nbformat_minor": 1,
  "cells": [
    {
      "execution_count": 0,
      "cell_type": "code",
      "metadata": {},
      "source": [
        "%pylab inline"
      ],
      "outputs": []
    },
    {
      "execution_count": 0,
      "cell_type": "code",
      "metadata": {},
      "source": [
        "import dataiku\nfrom dataiku import pandasutils as pdu\nimport pandas as pd\nfrom dataiku.scenario import Scenario\n"
      ],
      "outputs": []
    },
    {
      "execution_count": 0,
      "cell_type": "code",
      "metadata": {},
      "source": [
        "# A few example steps follow\nclient \u003d dataiku.api_client()\n\n# set the deployer \ndeployer \u003d client.get_projectdeployer() # get the deployer handle "
      ],
      "outputs": []
    },
    {
      "execution_count": 0,
      "cell_type": "code",
      "metadata": {},
      "source": [
        "# get the project \nproject     \u003d client.get_project(dataiku.default_project_key())\nglobal_vars \u003d project.get_variables() # get project variables \n\nbundle_id \u003d global_vars[\u0027standard\u0027][\u0027bundle_id\u0027]"
      ],
      "outputs": []
    },
    {
      "execution_count": 0,
      "cell_type": "code",
      "metadata": {},
      "source": [
        "bundle_id \u003d \u0027v06\u0027"
      ],
      "outputs": []
    },
    {
      "execution_count": 0,
      "cell_type": "code",
      "metadata": {},
      "source": [
        "# create a bundle \nproject.export_bundle(bundle_id) \nproject.publish_bundle(bundle_id) # publish bundle on the deployer"
      ],
      "outputs": []
    },
    {
      "execution_count": 0,
      "cell_type": "code",
      "metadata": {},
      "source": [
        "# create deployment and deploy the bundle \nproject_id \u003d project.project_key \ninfra_id \u003d \u0027UAT\u0027\n\ndeployment_id \u003d \u0027%s-%s-on-%s\u0027 %(project_id,bundle_id,infra_id) \n\ndeployment    \u003d deployer.create_deployment(deployment_id,project_id,infra_id,bundle_id)"
      ],
      "outputs": []
    },
    {
      "execution_count": 0,
      "cell_type": "code",
      "metadata": {},
      "source": [
        "deployment_id \u003d \u0027MLOPSDEMO-on-UAT-3\u0027"
      ],
      "outputs": []
    },
    {
      "execution_count": 0,
      "cell_type": "code",
      "metadata": {},
      "source": [
        "# deployment \u003d deployer.get_deployment(deployment_id)\nsettings \u003d deployment.get_settings()\nsettings_raw \u003d settings.get_raw()\nsettings.get_raw()[\u0027bundleContainerSettings\u0027][\u0027codeEnvsBehavior\u0027][\u0027envImportSpecificationMode\u0027]\u003d\u0027IGNORE\u0027\nsettings.save()"
      ],
      "outputs": []
    },
    {
      "execution_count": 0,
      "cell_type": "code",
      "metadata": {},
      "source": [
        "TEST \u003d deployer.create_project(\u0027MLOPSDEMO_TEST\u0027)"
      ],
      "outputs": []
    },
    {
      "execution_count": 0,
      "cell_type": "code",
      "metadata": {},
      "source": [
        "settings \u003d TEST.get_settings()\n\nsettings.get_raw()"
      ],
      "outputs": []
    },
    {
      "execution_count": 0,
      "cell_type": "code",
      "metadata": {},
      "source": [
        "deployment_id \u003d \u0027MLOPSDEMO-on-UAT-3\u0027"
      ],
      "outputs": []
    },
    {
      "execution_count": 0,
      "cell_type": "code",
      "metadata": {},
      "source": [
        "update \u003d deployment.start_update()\nupdate.wait_for_result()"
      ],
      "outputs": []
    },
    {
      "execution_count": 0,
      "cell_type": "code",
      "metadata": {},
      "source": [
        "for project in deployer.list_projects(as_objects\u003dFalse):\n    if project.get(\"canDeploy\", False):\n        print(\"User can deploy to %s\" % project[\"projectBasicInfo\"][\"id\"])   "
      ],
      "outputs": []
    },
    {
      "execution_count": 0,
      "cell_type": "code",
      "metadata": {},
      "source": [
        ""
      ],
      "outputs": []
    },
    {
      "execution_count": 0,
      "cell_type": "code",
      "metadata": {},
      "source": [
        "status \u003d deployment.get_status()\nstatus.get_heavy()"
      ],
      "outputs": []
    },
    {
      "execution_count": 0,
      "cell_type": "code",
      "metadata": {},
      "source": [
        "# get the rules and metrics \n\nproject \u003d client.get_project(dataiku.default_project_key())\n\ndataset \u003d project.get_dataset(\"transactions_joined\")\nruleset \u003d dataset.get_data_quality_rules()\nrules   \u003d ruleset.list_rules()\n\n# Returns a list of DSSDataQualityRule\n\nfor rule in rules:\n        # Access to main information of the rule\n        print(\"Rule id: %s\" % rule.id)\n        print(\"name: %s\" % rule.name)\n        \n        \n# get a specific rule and it\u0027s outcome\nrule \u003d ruleset.get_last_rules_results()[0]\nprint(rule.get_raw())\n\n# set Rule outcome as the Scenario Variable \nScenario().set_scenario_variables(VariableName_column_count_status\u003drule.outcome)"
      ],
      "outputs": []
    },
    {
      "execution_count": 0,
      "cell_type": "code",
      "metadata": {},
      "source": [
        "# get a specific rule and it\u0027s outcome\nrule \u003d ruleset.get_last_rules_results()[0]\nprint(rule.get_raw())\n\n# set Rule outcome as the Scenario Variable \nScenario().set_scenario_variables(VariableName_rule_status\u003drule.outcome)"
      ],
      "outputs": []
    },
    {
      "execution_count": 0,
      "cell_type": "code",
      "metadata": {},
      "source": [
        "Scenario().set_scenario_variables(VariableName_deploy_status\u003ddeploy_status)"
      ],
      "outputs": []
    }
  ]
}