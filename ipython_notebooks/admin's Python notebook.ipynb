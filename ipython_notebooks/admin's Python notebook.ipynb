{
  "metadata": {
    "kernelspec": {
      "name": "py-dku-venv-visualml",
      "display_name": "Python (env visualML)",
      "language": "python"
    },
    "hide_input": false,
    "language_info": {
      "name": "python",
      "version": "3.9.19",
      "mimetype": "text/x-python",
      "codemirror_mode": {
        "name": "ipython",
        "version": 3
      },
      "pygments_lexer": "ipython3",
      "nbconvert_exporter": "python",
      "file_extension": ".py"
    },
    "tags": [],
    "modifiedBy": "admin",
    "customFields": {},
    "creator": "admin",
    "createdOn": 1710355400137
  },
  "nbformat": 4,
  "nbformat_minor": 1,
  "cells": [
    {
      "execution_count": 0,
      "cell_type": "code",
      "metadata": {},
      "source": [
        "%pylab inline"
      ],
      "outputs": []
    },
    {
      "execution_count": 0,
      "cell_type": "code",
      "metadata": {},
      "source": [
        "import dataiku\nfrom dataiku import pandasutils as pdu\nimport pandas as pd\nfrom dataiku.scenario import Scenario\n"
      ],
      "outputs": []
    },
    {
      "execution_count": 0,
      "cell_type": "code",
      "metadata": {},
      "source": [
        "# A few example steps follow\nclient \u003d dataiku.api_client()\n\n# set the deployer \ndeployer \u003d client.get_projectdeployer() # get the deployer handle "
      ],
      "outputs": []
    },
    {
      "execution_count": 0,
      "cell_type": "code",
      "metadata": {},
      "source": [
        "# get the project \nproject     \u003d client.get_project(dataiku.default_project_key())\nglobal_vars \u003d project.get_variables() # get project variables \n\nbundle_id \u003d global_vars[\u0027standard\u0027][\u0027bundle_id\u0027]"
      ],
      "outputs": []
    },
    {
      "execution_count": 0,
      "cell_type": "code",
      "metadata": {},
      "source": [
        "bundle_id \u003d \u0027v06\u0027"
      ],
      "outputs": []
    },
    {
      "execution_count": 0,
      "cell_type": "code",
      "metadata": {},
      "source": [
        "# create a bundle \nproject.export_bundle(bundle_id) \nproject.publish_bundle(bundle_id) # publish bundle on the deployer"
      ],
      "outputs": []
    },
    {
      "execution_count": 0,
      "cell_type": "code",
      "metadata": {},
      "source": [
        "# create deployment and deploy the bundle \nproject_id \u003d project.project_key \ninfra_id \u003d \u0027UAT\u0027\n\ndeployment_id \u003d \u0027%s-%s-on-%s\u0027 %(project_id,bundle_id,infra_id) \n\ndeployment    \u003d deployer.create_deployment(deployment_id,project_id,infra_id,bundle_id)"
      ],
      "outputs": []
    },
    {
      "execution_count": 0,
      "cell_type": "code",
      "metadata": {},
      "source": [
        "deployment_id \u003d \u0027MLOPSDEMO-on-UAT-3\u0027"
      ],
      "outputs": []
    },
    {
      "execution_count": 0,
      "cell_type": "code",
      "metadata": {},
      "source": [
        "# deployment \u003d deployer.get_deployment(deployment_id)\nsettings \u003d deployment.get_settings()\nsettings_raw \u003d settings.get_raw()\nsettings.get_raw()[\u0027bundleContainerSettings\u0027][\u0027codeEnvsBehavior\u0027][\u0027envImportSpecificationMode\u0027]\u003d\u0027IGNORE\u0027\nsettings.save()"
      ],
      "outputs": []
    },
    {
      "execution_count": 0,
      "cell_type": "code",
      "metadata": {},
      "source": [
        "settings.get_raw()"
      ],
      "outputs": []
    },
    {
      "execution_count": 0,
      "cell_type": "code",
      "metadata": {},
      "source": [
        "settings.deployment_id"
      ],
      "outputs": []
    },
    {
      "execution_count": 0,
      "cell_type": "code",
      "metadata": {},
      "source": [
        "deployment_id \u003d \u0027MLOPSDEMO-on-UAT-3\u0027"
      ],
      "outputs": []
    },
    {
      "execution_count": 0,
      "cell_type": "code",
      "metadata": {},
      "source": [
        "update \u003d deployment.start_update()\nupdate.wait_for_result()"
      ],
      "outputs": []
    },
    {
      "execution_count": 0,
      "cell_type": "code",
      "metadata": {},
      "source": [
        "status \u003d deployment.get_status()\nstatus.get_heavy()"
      ],
      "outputs": []
    }
  ]
}