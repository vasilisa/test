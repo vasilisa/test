{
  "metadata": {
    "kernelspec": {
      "name": "py-dku-venv-visualml",
      "display_name": "Python (env visualML)",
      "language": "python"
    },
    "hide_input": false,
    "language_info": {
      "name": "python",
      "version": "3.9.19",
      "mimetype": "text/x-python",
      "codemirror_mode": {
        "name": "ipython",
        "version": 3
      },
      "pygments_lexer": "ipython3",
      "nbconvert_exporter": "python",
      "file_extension": ".py"
    },
    "tags": [],
    "creator": "admin",
    "modifiedBy": "admin",
    "customFields": {},
    "createdOn": 1710355400137
  },
  "nbformat": 4,
  "nbformat_minor": 1,
  "cells": [
    {
      "execution_count": 0,
      "cell_type": "code",
      "metadata": {},
      "source": [
        "%pylab inline"
      ],
      "outputs": []
    },
    {
      "execution_count": 0,
      "cell_type": "code",
      "metadata": {},
      "source": [
        "import dataiku\nfrom dataiku import pandasutils as pdu\nimport pandas as pd"
      ],
      "outputs": []
    },
    {
      "execution_count": 0,
      "cell_type": "code",
      "metadata": {},
      "source": [
        "# Read recipe inputs\n# custom model (binary)\nmodel      \u003d dataiku.Model(\"h2pmDYwT\")\npredictor  \u003d model.get_predictor()\n\n# From predictor you can extract the necessary information\n# Parameters of the model \nparams \u003d predictor.param\n\nparams.core_params\n\n# Fitting \nclf \u003d predictor._clf\nclf.get_all_params()"
      ],
      "outputs": []
    }
  ]
}